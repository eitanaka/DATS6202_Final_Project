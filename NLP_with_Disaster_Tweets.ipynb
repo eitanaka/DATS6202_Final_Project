{
  "nbformat": 4,
  "nbformat_minor": 0,
  "metadata": {
    "colab": {
      "provenance": [],
      "authorship_tag": "ABX9TyOZY259BzhpYQt22YSji3+9",
      "include_colab_link": true
    },
    "kernelspec": {
      "name": "python3",
      "display_name": "Python 3"
    },
    "language_info": {
      "name": "python"
    }
  },
  "cells": [
    {
      "cell_type": "markdown",
      "metadata": {
        "id": "view-in-github",
        "colab_type": "text"
      },
      "source": [
        "<a href=\"https://colab.research.google.com/github/eitanaka/DATS6202_Final_Project/blob/main/NLP_with_Disaster_Tweets.ipynb\" target=\"_parent\"><img src=\"https://colab.research.google.com/assets/colab-badge.svg\" alt=\"Open In Colab\"/></a>"
      ]
    },
    {
      "cell_type": "markdown",
      "source": [
        "# DATS 6202 Machine Learning Project\n",
        "## Natural Language procssing with Disaster Tweets\n",
        "[Kaggle web page](https://www.kaggle.com/competitions/nlp-getting-started/overview)\n",
        "### Team Member: "
      ],
      "metadata": {
        "id": "S1AjZuiX9luq"
      }
    },
    {
      "cell_type": "code",
      "execution_count": null,
      "metadata": {
        "id": "bXAO2hda8kvR"
      },
      "outputs": [],
      "source": [
        "# Set up\n",
        "import numpy as np\n",
        "import pandas as pd\n",
        "import matplotlib.pyplot as plt\n",
        "import seaborn as sns"
      ]
    },
    {
      "cell_type": "markdown",
      "source": [
        "## Load the data"
      ],
      "metadata": {
        "id": "1cG36-bTE69t"
      }
    },
    {
      "cell_type": "code",
      "source": [
        "url1 = 'https://raw.githubusercontent.com/eitanaka/DATS6202_Final_Project/main/datasets/train.csv' # training set from our github repo\n",
        "url2 = \"https://raw.githubusercontent.com/eitanaka/DATS6202_Final_Project/main/datasets/test.csv\" # test set from out github repo\n",
        "df_train = pd.read_csv(url1)\n",
        "df_test = pd.read_csv(url2)"
      ],
      "metadata": {
        "id": "PLu_5O9HE5iV"
      },
      "execution_count": null,
      "outputs": []
    },
    {
      "cell_type": "code",
      "source": [],
      "metadata": {
        "id": "-doiCQZaF5qB"
      },
      "execution_count": null,
      "outputs": []
    },
    {
      "cell_type": "markdown",
      "source": [
        "## Data Preprocessing"
      ],
      "metadata": {
        "id": "_Z3XhkbiIa7q"
      }
    },
    {
      "cell_type": "code",
      "source": [],
      "metadata": {
        "id": "stD8-DMsIfPG"
      },
      "execution_count": null,
      "outputs": []
    }
  ]
}